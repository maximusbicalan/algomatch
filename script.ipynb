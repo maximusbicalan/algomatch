{
 "cells": [
  {
   "cell_type": "code",
   "execution_count": 5,
   "id": "8a10f002",
   "metadata": {},
   "outputs": [],
   "source": [
    "import pandas as pd\n",
    "import numpy as np\n",
    "\n"
   ]
  },
  {
   "cell_type": "code",
   "execution_count": 7,
   "id": "86eebda5",
   "metadata": {},
   "outputs": [],
   "source": [
    "df = pd.read_csv('AlgoMatch_ Exploring the Student Social Game on Bumble (Responses) - Form Responses 1.csv')\n"
   ]
  },
  {
   "cell_type": "code",
   "execution_count": 9,
   "id": "06ac8e78",
   "metadata": {},
   "outputs": [],
   "source": [
    "# parse the A1, A2 etc. on each column name and set as new column names\n",
    "df.columns = df.columns.str.extract(r'([A-Z]\\d+)')[0]\n"
   ]
  },
  {
   "cell_type": "code",
   "execution_count": 13,
   "id": "d6b68d48",
   "metadata": {},
   "outputs": [],
   "source": [
    "# drop unnecessary columns (C1 to C15)\n",
    "df = df.drop(columns=[col for col in df.columns if isinstance(col, str) and col.startswith('C')])\n"
   ]
  },
  {
   "cell_type": "code",
   "execution_count": 16,
   "id": "9bb66606",
   "metadata": {},
   "outputs": [],
   "source": [
    "# rename nan column to 'dateTime' \n",
    "df = df.rename(columns={np.nan: 'dateTime'})\n",
    "# convert dateTime to datetime format\n",
    "df['dateTime'] = pd.to_datetime(df['dateTime'], errors='coerce')"
   ]
  },
  {
   "cell_type": "code",
   "execution_count": 18,
   "id": "2dfdc577",
   "metadata": {},
   "outputs": [
    {
     "data": {
      "text/plain": [
       "Index(['dateTime', 'A1', 'A2', 'A2', 'A3', 'A4', 'A5', 'A6', 'A7', 'A8', 'A9',\n",
       "       'A10', 'D1', 'D2', 'D3', 'D4', 'D5', 'D6', 'D7', 'D8', 'D9', 'D10',\n",
       "       'D11', 'D12', 'D13', 'D14', 'D15', 'B1', 'B2', 'B3', 'B4', 'B5', 'B6',\n",
       "       'B7', 'B8', 'B9', 'B10', 'B11', 'B12', 'B13', 'B14', 'B15'],\n",
       "      dtype='object', name=0)"
      ]
     },
     "execution_count": 18,
     "metadata": {},
     "output_type": "execute_result"
    }
   ],
   "source": [
    "df.columns"
   ]
  },
  {
   "cell_type": "code",
   "execution_count": 28,
   "id": "d7a75de3",
   "metadata": {},
   "outputs": [
    {
     "name": "stdout",
     "output_type": "stream",
     "text": [
      "   A1 |    A1\n",
      "   A2 |    A2\n",
      "   A2 |    A2\n",
      "   A3 |    A3\n",
      "   A4 |    A4\n",
      "   A5 |    A5\n",
      "   A6 |    A6\n",
      "   A7 |    A7\n",
      "   A8 |    A8\n",
      "   A9 |    A9\n",
      "  A10 |   A10\n",
      "   D1 |    B1\n",
      "   D2 |    B2\n",
      "   D3 |    B3\n",
      "   D4 |    B4\n",
      "   D5 |    B5\n",
      "   D6 |    B6\n",
      "   D7 |    B7\n",
      "   D8 |    B8\n",
      "   D9 |    B9\n",
      "  D10 |   B10\n",
      "  D11 |   B11\n",
      "  D12 |   B12\n",
      "  D13 |   B13\n",
      "  D14 |   B14\n",
      "  D15 |   B15\n"
     ]
    }
   ],
   "source": [
    "# create new data frame for columns A1 to A10 and D1 to D15, filter out the resulting rows with Nan from columns starting with D\n",
    "df_A_D = df.loc[:, df.columns.str.startswith(('A', 'D'))]\n",
    "df_A_D = df_A_D.dropna(subset=[col for col in df_A_D.columns if col.startswith('D')])\n",
    "# create new data frame for columns A1 to A10 and B1 to B15,  filter out the resulting rows with Nan from columns starting with B\n",
    "df_A_B = df.loc[:, df.columns.str.startswith(('A', 'B'))]\n",
    "df_A_B = df_A_B.dropna(subset=[col for col in df_A_B.columns if col.startswith('B')])\n",
    "\n",
    "#print out side by side column names of df_A_D and df_A_B in zip\n",
    "for col_A_D, col_A_B in zip(df_A_D.columns, df_A_B.columns):\n",
    "    print(f\"{col_A_D:>5} | {col_A_B:>5}\")\n"
   ]
  },
  {
   "cell_type": "markdown",
   "id": "5e3060ac",
   "metadata": {},
   "source": [
    "### Analysis of Bumble Date DataFrame "
   ]
  },
  {
   "cell_type": "markdown",
   "id": "3f95f9ec",
   "metadata": {},
   "source": [
    "### Analysis of Bumble BFF DataFrame"
   ]
  }
 ],
 "metadata": {
  "kernelspec": {
   "display_name": "venv",
   "language": "python",
   "name": "python3"
  },
  "language_info": {
   "codemirror_mode": {
    "name": "ipython",
    "version": 3
   },
   "file_extension": ".py",
   "mimetype": "text/x-python",
   "name": "python",
   "nbconvert_exporter": "python",
   "pygments_lexer": "ipython3",
   "version": "3.12.1"
  }
 },
 "nbformat": 4,
 "nbformat_minor": 5
}
