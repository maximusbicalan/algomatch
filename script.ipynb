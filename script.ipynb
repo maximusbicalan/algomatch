{
 "cells": [
  {
   "cell_type": "code",
   "execution_count": null,
   "id": "8a10f002",
   "metadata": {},
   "outputs": [],
   "source": [
    "import pandas as pd\n",
    "import numpy as np\n",
    "import seaborn as sns\n",
    "import matplotlib.pyplot as plt"
   ]
  },
  {
   "cell_type": "code",
   "execution_count": null,
   "id": "86eebda5",
   "metadata": {},
   "outputs": [],
   "source": [
    "df = pd.read_csv('AlgoMatch_ Exploring the Student Social Game on Bumble (Responses) - Form Responses 1.csv')\n"
   ]
  },
  {
   "cell_type": "code",
   "execution_count": null,
   "id": "06ac8e78",
   "metadata": {},
   "outputs": [],
   "source": [
    "# parse the A1, A2 etc. on each column name and set as new column names (include the A2.1)\n",
    "df.columns = df.columns.str.extract(r'([A-Z]\\d+)')[0]\n"
   ]
  },
  {
   "cell_type": "code",
   "execution_count": null,
   "id": "d6b68d48",
   "metadata": {},
   "outputs": [],
   "source": [
    "# drop unnecessary columns (C1 to C15)\n",
    "df = df.drop(columns=[col for col in df.columns if isinstance(col, str) and col.startswith('C')])\n"
   ]
  },
  {
   "cell_type": "code",
   "execution_count": null,
   "id": "9bb66606",
   "metadata": {},
   "outputs": [],
   "source": [
    "# rename nan column to 'dateTime' \n",
    "df = df.rename(columns={np.nan: 'dateTime'})\n",
    "# convert dateTime to datetime format\n",
    "df['dateTime'] = pd.to_datetime(df['dateTime'], errors='coerce')"
   ]
  },
  {
   "cell_type": "code",
   "execution_count": null,
   "id": "11e9de65",
   "metadata": {},
   "outputs": [],
   "source": [
    "df2 = pd.read_csv('AlgoMatch_ Exploring the Student Social Game on Bumble (Responses) - Form Responses 1.csv')\n",
    "df2.columns"
   ]
  },
  {
   "cell_type": "code",
   "execution_count": null,
   "id": "2dfdc577",
   "metadata": {},
   "outputs": [],
   "source": [
    "# rename the index=3 column to 'A1.1'\n",
    "df.columns.values[3] = 'A2.1'"
   ]
  },
  {
   "cell_type": "code",
   "execution_count": null,
   "id": "6699e6f1",
   "metadata": {},
   "outputs": [],
   "source": [
    "df.columns"
   ]
  },
  {
   "cell_type": "code",
   "execution_count": null,
   "id": "d7a75de3",
   "metadata": {},
   "outputs": [
    {
     "name": "stdout",
     "output_type": "stream",
     "text": [
      "dateTime | dateTime\n",
      "   A1 |    A1\n",
      "   A2 |    A2\n",
      " A2.1 |  A2.1\n",
      "   A3 |    A3\n",
      "   A4 |    A4\n",
      "   A5 |    A5\n",
      "   A6 |    A6\n",
      "   A7 |    A7\n",
      "   A8 |    A8\n",
      "   A9 |    A9\n",
      "  A10 |   A10\n",
      "   D1 |    B1\n",
      "   D2 |    B2\n",
      "   D3 |    B3\n",
      "   D4 |    B4\n",
      "   D5 |    B5\n",
      "   D6 |    B6\n",
      "   D7 |    B7\n",
      "   D8 |    B8\n",
      "   D9 |    B9\n",
      "  D10 |   B10\n",
      "  D11 |   B11\n",
      "  D12 |   B12\n",
      "  D13 |   B13\n",
      "  D14 |   B14\n",
      "  D15 |   B15\n"
     ]
    }
   ],
   "source": [
    "# create new data frame for columns A1 to A10 and D1 to D15, filter out the resulting rows with Nan from columns starting with D\n",
    "dating = df.loc[:, df.columns.str.startswith(('A', 'D'))]\n",
    "dating = df[df['A10'] == 'Dating'].drop(columns=[col for col in df.columns if col.startswith('B')]).reset_index(drop=True)\n",
    "# create new data frame for columns A1 to A10 and B1 to B15,  filter out the resulting rows with Nan from columns starting with B\n",
    "\n",
    "\n",
    "\n",
    "#print out side by side column names of dating and bff in zip\n",
    "for col_A_D, col_A_B in zip(dating.columns, bff.columns):\n",
    "    print(f\"{col_A_D:>5} | {col_A_B:>5}\")\n"
   ]
  },
  {
   "cell_type": "code",
   "execution_count": 261,
   "id": "3e408ba6",
   "metadata": {},
   "outputs": [
    {
     "data": {
      "text/plain": [
       "((95, 27), (18, 27))"
      ]
     },
     "execution_count": 261,
     "metadata": {},
     "output_type": "execute_result"
    }
   ],
   "source": [
    "dating.shape, bff.shape\n"
   ]
  },
  {
   "cell_type": "markdown",
   "id": "5e3060ac",
   "metadata": {},
   "source": [
    "### Analysis of Bumble Date DataFrame "
   ]
  },
  {
   "cell_type": "code",
   "execution_count": 262,
   "id": "83477c37",
   "metadata": {},
   "outputs": [],
   "source": [
    "#convert each column in dating and bff to python native types\n",
    "dating = dating.convert_dtypes()\n"
   ]
  },
  {
   "cell_type": "code",
   "execution_count": null,
   "id": "e8ee1805",
   "metadata": {},
   "outputs": [],
   "source": [
    "dating.head(5)"
   ]
  },
  {
   "cell_type": "code",
   "execution_count": 263,
   "id": "1122f302",
   "metadata": {},
   "outputs": [
    {
     "data": {
      "text/html": [
       "<div>\n",
       "<style scoped>\n",
       "    .dataframe tbody tr th:only-of-type {\n",
       "        vertical-align: middle;\n",
       "    }\n",
       "\n",
       "    .dataframe tbody tr th {\n",
       "        vertical-align: top;\n",
       "    }\n",
       "\n",
       "    .dataframe thead th {\n",
       "        text-align: right;\n",
       "    }\n",
       "</style>\n",
       "<table border=\"1\" class=\"dataframe\">\n",
       "  <thead>\n",
       "    <tr style=\"text-align: right;\">\n",
       "      <th>A2.1</th>\n",
       "      <th>Female</th>\n",
       "      <th>Genderfluid</th>\n",
       "      <th>Male</th>\n",
       "      <th>Non-binary</th>\n",
       "      <th>Total</th>\n",
       "    </tr>\n",
       "    <tr>\n",
       "      <th>A1</th>\n",
       "      <th></th>\n",
       "      <th></th>\n",
       "      <th></th>\n",
       "      <th></th>\n",
       "      <th></th>\n",
       "    </tr>\n",
       "  </thead>\n",
       "  <tbody>\n",
       "    <tr>\n",
       "      <th>18</th>\n",
       "      <td>2</td>\n",
       "      <td>0</td>\n",
       "      <td>4</td>\n",
       "      <td>1</td>\n",
       "      <td>7</td>\n",
       "    </tr>\n",
       "    <tr>\n",
       "      <th>19</th>\n",
       "      <td>1</td>\n",
       "      <td>0</td>\n",
       "      <td>9</td>\n",
       "      <td>0</td>\n",
       "      <td>10</td>\n",
       "    </tr>\n",
       "    <tr>\n",
       "      <th>20</th>\n",
       "      <td>6</td>\n",
       "      <td>0</td>\n",
       "      <td>5</td>\n",
       "      <td>1</td>\n",
       "      <td>12</td>\n",
       "    </tr>\n",
       "    <tr>\n",
       "      <th>21</th>\n",
       "      <td>15</td>\n",
       "      <td>0</td>\n",
       "      <td>7</td>\n",
       "      <td>0</td>\n",
       "      <td>22</td>\n",
       "    </tr>\n",
       "    <tr>\n",
       "      <th>22</th>\n",
       "      <td>10</td>\n",
       "      <td>1</td>\n",
       "      <td>5</td>\n",
       "      <td>1</td>\n",
       "      <td>17</td>\n",
       "    </tr>\n",
       "    <tr>\n",
       "      <th>23</th>\n",
       "      <td>3</td>\n",
       "      <td>0</td>\n",
       "      <td>5</td>\n",
       "      <td>0</td>\n",
       "      <td>8</td>\n",
       "    </tr>\n",
       "    <tr>\n",
       "      <th>24</th>\n",
       "      <td>2</td>\n",
       "      <td>0</td>\n",
       "      <td>4</td>\n",
       "      <td>1</td>\n",
       "      <td>7</td>\n",
       "    </tr>\n",
       "    <tr>\n",
       "      <th>25</th>\n",
       "      <td>1</td>\n",
       "      <td>0</td>\n",
       "      <td>3</td>\n",
       "      <td>1</td>\n",
       "      <td>5</td>\n",
       "    </tr>\n",
       "    <tr>\n",
       "      <th>26</th>\n",
       "      <td>0</td>\n",
       "      <td>0</td>\n",
       "      <td>1</td>\n",
       "      <td>0</td>\n",
       "      <td>1</td>\n",
       "    </tr>\n",
       "    <tr>\n",
       "      <th>27</th>\n",
       "      <td>0</td>\n",
       "      <td>0</td>\n",
       "      <td>2</td>\n",
       "      <td>0</td>\n",
       "      <td>2</td>\n",
       "    </tr>\n",
       "    <tr>\n",
       "      <th>29</th>\n",
       "      <td>0</td>\n",
       "      <td>0</td>\n",
       "      <td>2</td>\n",
       "      <td>0</td>\n",
       "      <td>2</td>\n",
       "    </tr>\n",
       "    <tr>\n",
       "      <th>39</th>\n",
       "      <td>0</td>\n",
       "      <td>0</td>\n",
       "      <td>1</td>\n",
       "      <td>0</td>\n",
       "      <td>1</td>\n",
       "    </tr>\n",
       "    <tr>\n",
       "      <th>46</th>\n",
       "      <td>0</td>\n",
       "      <td>0</td>\n",
       "      <td>1</td>\n",
       "      <td>0</td>\n",
       "      <td>1</td>\n",
       "    </tr>\n",
       "    <tr>\n",
       "      <th>Total</th>\n",
       "      <td>40</td>\n",
       "      <td>1</td>\n",
       "      <td>49</td>\n",
       "      <td>5</td>\n",
       "      <td>95</td>\n",
       "    </tr>\n",
       "  </tbody>\n",
       "</table>\n",
       "</div>"
      ],
      "text/plain": [
       "A2.1   Female  Genderfluid  Male  Non-binary  Total\n",
       "A1                                                 \n",
       "18          2            0     4           1      7\n",
       "19          1            0     9           0     10\n",
       "20          6            0     5           1     12\n",
       "21         15            0     7           0     22\n",
       "22         10            1     5           1     17\n",
       "23          3            0     5           0      8\n",
       "24          2            0     4           1      7\n",
       "25          1            0     3           1      5\n",
       "26          0            0     1           0      1\n",
       "27          0            0     2           0      2\n",
       "29          0            0     2           0      2\n",
       "39          0            0     1           0      1\n",
       "46          0            0     1           0      1\n",
       "Total      40            1    49           5     95"
      ]
     },
     "execution_count": 263,
     "metadata": {},
     "output_type": "execute_result"
    }
   ],
   "source": [
    "# cross tabulate sexual orientation and gender identity\n",
    "dating_so_gi = pd.crosstab(dating['A1'], dating['A2.1'], margins=True, margins_name='Total')\n",
    "dating_so_gi"
   ]
  },
  {
   "cell_type": "code",
   "execution_count": 264,
   "id": "7c9b1100",
   "metadata": {},
   "outputs": [
    {
     "name": "stdout",
     "output_type": "stream",
     "text": [
      " Mean Age by gender identity\n",
      "A2.1\n",
      "Female         21.30\n",
      "Genderfluid    22.00\n",
      "Male           22.63\n",
      "Non-binary     21.80\n",
      "Name: A1, dtype: object\n",
      " ----------------------------------------\n",
      " Mean Age by sexual orientation\n",
      "A2\n",
      "Bisexual                   21.52\n",
      "Gay                        20.30\n",
      "Heterosexual (straight)    22.67\n",
      "Lesbian                    21.50\n",
      "Panromantic                18.00\n",
      "Pansexual                  21.67\n",
      "Prefer not to say          23.00\n",
      "asexual                    21.00\n",
      "Name: A1, dtype: object\n"
     ]
    }
   ],
   "source": [
    "# mean age by gender identity/ sexual orientation\n",
    "print(\" Mean Age by gender identity\")\n",
    "print(dating.groupby('A2.1')['A1'].mean().round(2).apply(lambda x: f\"{x:.2f}\"))\n",
    "print(\" ----------------------------------------\")\n",
    "print(\" Mean Age by sexual orientation\")\n",
    "# capitalize the first letter of each word in A2\n",
    "print(dating.groupby('A2')['A1'].mean().round(2).apply(lambda x: f\"{x:.2f}\"))"
   ]
  },
  {
   "cell_type": "code",
   "execution_count": null,
   "id": "d3d959a8",
   "metadata": {},
   "outputs": [],
   "source": [
    "so_gi = pd.crosstab(dating['A1'], dating['A2.1'])\n",
    "so_gi.plot(kind='bar', figsize=(10, 6))\n",
    "plt.title('Gender Identity by Sexual Orientation')\n",
    "plt.xlabel('Sexual Orientation')\n",
    "plt.ylabel('Count')\n",
    "plt.legend(title='Gender Identity')\n",
    "plt.tight_layout()\n",
    "plt.xticks(rotation=0)\n",
    "plt.savefig('sexual_orientation_vs_gender_identity.png', dpi=300, bbox_inches='tight')\n",
    "plt.show()\n"
   ]
  },
  {
   "cell_type": "code",
   "execution_count": null,
   "id": "fe9e2073",
   "metadata": {},
   "outputs": [],
   "source": [
    "gi_so = pd.crosstab(dating['A2.1'], dating['A1'])\n",
    "gi_so.plot(kind='bar', figsize=(10, 6))\n",
    "plt.title('Sexual Orientation by Gender Identity')\n",
    "plt.xlabel('Gender Identity')\n",
    "plt.ylabel('Count')\n",
    "plt.legend(title='Sexual Orientation')\n",
    "plt.tight_layout()\n",
    "plt.xticks(rotation=0)\n",
    "plt.savefig('gender_identity_vs_sexual_orientation.png', dpi=300, bbox_inches='tight')\n",
    "plt.show()"
   ]
  },
  {
   "cell_type": "code",
   "execution_count": null,
   "id": "7a3a44ea",
   "metadata": {},
   "outputs": [],
   "source": [
    "import re\n",
    "\n",
    "\n",
    "def extract_lower_bound(value):\n",
    "    value = value.lower().strip()\n",
    "    if re.search(r'\\d+-\\d+', value):  # range format\n",
    "        return int(re.search(r'(\\d+)-\\d+', value).group(1))\n",
    "    elif re.search(r'\\d+\\s*to\\s*\\d+', value):  # format like '4 to 6 maybe'\n",
    "        return int(re.search(r'(\\d+)\\s*to\\s*\\d+', value).group(1))\n",
    "    elif re.search(r'\\d+', value):  # any digit found\n",
    "        return int(re.search(r'\\d+', value).group(0))\n",
    "    else:\n",
    "        return None"
   ]
  },
  {
   "cell_type": "code",
   "execution_count": 265,
   "id": "e77d7f46",
   "metadata": {},
   "outputs": [],
   "source": [
    "dating['D4'] = dating['D4'].apply(lambda x: extract_lower_bound(x) if isinstance(x, str) else x)"
   ]
  },
  {
   "cell_type": "code",
   "execution_count": 266,
   "id": "270dcc20",
   "metadata": {},
   "outputs": [
    {
     "name": "stderr",
     "output_type": "stream",
     "text": [
      "C:\\Users\\User\\AppData\\Local\\Temp\\ipykernel_46092\\3976095931.py:4: SettingWithCopyWarning: \n",
      "A value is trying to be set on a copy of a slice from a DataFrame.\n",
      "Try using .loc[row_indexer,col_indexer] = value instead\n",
      "\n",
      "See the caveats in the documentation: https://pandas.pydata.org/pandas-docs/stable/user_guide/indexing.html#returning-a-view-versus-a-copy\n",
      "  subset['A5'] = subset['A5'].map({\"Never\": 0, \"Rarely\": 1, \"Few times a month\": 2, \"Few times a week\": 3, \"Several times a day\": 4, \"Once a day\": 5})\n",
      "C:\\Users\\User\\AppData\\Local\\Temp\\ipykernel_46092\\3976095931.py:6: SettingWithCopyWarning: \n",
      "A value is trying to be set on a copy of a slice from a DataFrame.\n",
      "Try using .loc[row_indexer,col_indexer] = value instead\n",
      "\n",
      "See the caveats in the documentation: https://pandas.pydata.org/pandas-docs/stable/user_guide/indexing.html#returning-a-view-versus-a-copy\n",
      "  subset['A6'] = subset['A6'].map({\n",
      "C:\\Users\\User\\AppData\\Local\\Temp\\ipykernel_46092\\3976095931.py:15: SettingWithCopyWarning: \n",
      "A value is trying to be set on a copy of a slice from a DataFrame.\n",
      "Try using .loc[row_indexer,col_indexer] = value instead\n",
      "\n",
      "See the caveats in the documentation: https://pandas.pydata.org/pandas-docs/stable/user_guide/indexing.html#returning-a-view-versus-a-copy\n",
      "  subset['D13'] = subset['D13'].map({\n",
      "C:\\Users\\User\\AppData\\Local\\Temp\\ipykernel_46092\\3976095931.py:23: SettingWithCopyWarning: \n",
      "A value is trying to be set on a copy of a slice from a DataFrame.\n",
      "Try using .loc[row_indexer,col_indexer] = value instead\n",
      "\n",
      "See the caveats in the documentation: https://pandas.pydata.org/pandas-docs/stable/user_guide/indexing.html#returning-a-view-versus-a-copy\n",
      "  subset['D14'] = subset['D14'].map({\n"
     ]
    }
   ],
   "source": [
    "subset = dating[[ 'A5', 'A6', 'A9', 'D4', 'D13', 'D14']]\n",
    "\n",
    "# Map A5 (frequency of use)\n",
    "subset['A5'] = subset['A5'].map({\"Never\": 0, \"Rarely\": 1, \"Few times a month\": 2, \"Few times a week\": 3, \"Several times a day\": 4, \"Once a day\": 5})\n",
    "# Map A6 (how long have you been using Bumble)\n",
    "subset['A6'] = subset['A6'].map({\n",
    "    'Less than a month': 0,\n",
    "    '1-3 months': 1,\n",
    "    '3-6 months': 2,\n",
    "    '6-12 months': 3,\n",
    "    'More than a year': 4\n",
    "})\n",
    "# in A9, 1 indicates Very dissatisfied, and 4 indicates Very satisfied\n",
    "#in D13, 1 indicates Very negatively affected my social life, and 5 indicates Very Positively Improved my social life\n",
    "subset['D13'] = subset['D13'].map({\n",
    "    '1 - Very Negatively affected my social life': 1,\n",
    "    '2 - Somewhat negatively affected my social life': 2,\n",
    "    '3 - No Impact': 3,\n",
    "    '4 - Somewhat positively improved my social life': 4,\n",
    "    '5 - Very Positively Improved my social life': 5\n",
    "})\n",
    "# in D14, 1 indicates Very negatively affected my self-confidence, and 5 indicates Very Positively Improved my self-confidence\n",
    "subset['D14'] = subset['D14'].map({\n",
    "    '1 - Very Negatively affected my self-confidence': 1,\n",
    "    '2 - Somewhat negatively affected my self-confidence': 2,\n",
    "    '3 - No Impact': 3,\n",
    "    '4 - Somewhat positively improved my self-confidence': 4,\n",
    "    '5 - Very Positively Improved my self-confidence': 5\n",
    "})\n"
   ]
  },
  {
   "cell_type": "code",
   "execution_count": 317,
   "id": "6b6b6187",
   "metadata": {},
   "outputs": [
    {
     "data": {
      "text/plain": [
       "0     3\n",
       "1     4\n",
       "2     3\n",
       "3     3\n",
       "4     3\n",
       "     ..\n",
       "90    2\n",
       "91    2\n",
       "92    3\n",
       "93    2\n",
       "94    2\n",
       "Name: A9, Length: 95, dtype: Int64"
      ]
     },
     "execution_count": 317,
     "metadata": {},
     "output_type": "execute_result"
    }
   ],
   "source": [
    "subset['A9']"
   ]
  },
  {
   "cell_type": "code",
   "execution_count": 268,
   "id": "65ff6874",
   "metadata": {},
   "outputs": [
    {
     "data": {
      "image/png": "[encoded data removed]",
      "text/plain": [
       "<Figure size 1000x600 with 2 Axes>"
      ]
     },
     "metadata": {},
     "output_type": "display_data"
    }
   ],
   "source": [
    "corr_matrix = subset.corr(method='spearman')\n",
    "plt.figure(figsize=(10, 6))\n",
    "sns.heatmap(corr_matrix, annot=True, cmap='coolwarm', vmin=-1, vmax=1)\n",
    "# rename the following, A5 - Frequency of Use, A6 - Duration of Use, D4 - Number of Matches, D13 - Social Life Impact, D14 - Self-Confidence Impact\n",
    "plt.xticks(\n",
    "\tticks=np.arange(len(corr_matrix.columns)),\n",
    "\tlabels=['Frequency of Use', 'Duration of Use', 'Satisfaction', 'Number of Matches', 'Social Life Impact', 'Self-Confidence Impact'],\n",
    "\trotation=45\n",
    ")\n",
    "plt.yticks(\n",
    "\tticks=np.arange(len(corr_matrix.index)),\n",
    "\tlabels=['Frequency of Use', 'Duration of Use', 'Satisfaction', 'Number of Matches', 'Social Life Impact', 'Self-Confidence Impact'],\n",
    "\trotation=0\n",
    ")\n",
    "plt.title('Spearman Correlation Matrix: Bumble Dating Usage and Impact')\n",
    "plt.tight_layout()\n",
    "plt.savefig('spearman_correlation_matrix.png', dpi=300, bbox_inches='tight')\n",
    "plt.show()\n",
    "\n",
    "corr_matrix.columns = ['Frequency of Use', 'Duration of Use', 'Satisfaction', 'Number of Matches', 'Social Life Impact', 'Self-Confidence Impact']\n",
    "corr_matrix.index = ['Frequency of Use', 'Duration of Use', 'Satisfaction', 'Number of Matches', 'Social Life Impact', 'Self-Confidence Impact']\n"
   ]
  },
  {
   "cell_type": "code",
   "execution_count": null,
   "id": "cc6e8c90",
   "metadata": {},
   "outputs": [],
   "source": []
  },
  {
   "cell_type": "code",
   "execution_count": null,
   "id": "42560224",
   "metadata": {},
   "outputs": [],
   "source": [
    "target_features = ['D14', 'D13', 'A9']\n",
    "target_corrs = corr_matrix.loc[:, target_features].drop(index=target_features)\n",
    "# drop age and number of matches from target_corrs\n",
    "\n",
    "plt.figure(figsize=(8, 6))\n",
    "sns.heatmap(target_corrs, annot=True, cmap='coolwarm', vmin=-1, vmax=1)\n",
    "#rename and make the label adjusted on position below\n",
    "plt.xticks(\n",
    "    ticks=np.arange(len(target_corrs.columns)),\n",
    "    labels=['Self-Confidence Impact', 'Social Life Impact', 'Satisfaction'],\n",
    "    rotation=45,\n",
    ")\n",
    "\n",
    "plt.yticks(\n",
    "    ticks=np.arange(len(target_corrs.index)),\n",
    "    labels=['Frequency of Use', 'Duration of Use', 'Number of Matches'],\n",
    "    rotation=0\n",
    ")\n",
    "plt.title('Spearman Correlation with D14 (Self-Confidence Impact), D13 (Social Life), A9 (Satisfaction)')\n",
    "plt.tight_layout()\n",
    "plt.show()\n",
    "\n",
    "# rename the columns of target_corrs for clarity\n",
    "target_corrs.columns = ['Self-Confidence Impact', 'Social', 'Satisfaction']\n",
    "target_corrs.index = ['Frequency of Use', 'Duration of Use', 'Number of Matches']\n",
    "target_corrs"
   ]
  },
  {
   "cell_type": "code",
   "execution_count": 270,
   "id": "42b571ff",
   "metadata": {},
   "outputs": [
    {
     "name": "stdout",
     "output_type": "stream",
     "text": [
      "Correlation Matrix:\n",
      "                        Age  Number of Matches\n",
      "Age                1.000000           0.076487\n",
      "Number of Matches  0.076487           1.000000\n",
      "----------------------------------------\n",
      "Spearman correlation between age and number of matches: 0.0765\n"
     ]
    }
   ],
   "source": [
    "# perform correlation on age (A1) and D4 (estimated number of matches weekly)\n",
    "correlation = dating[['A1', 'D4']].corr(method='spearman')\n",
    "#remove the index and column names for better readability\n",
    "correlation.index = ['Age', 'Number of Matches']\n",
    "correlation.columns = ['Age', 'Number of Matches']\n",
    "print(\"Correlation Matrix:\")\n",
    "print(correlation)\n",
    "print(\"----------------------------------------\")\n",
    "print(f\"Spearman correlation between age and number of matches: {correlation.iloc[0,1]:.4f}\")"
   ]
  },
  {
   "cell_type": "code",
   "execution_count": 286,
   "id": "90aed66d",
   "metadata": {},
   "outputs": [],
   "source": [
    "# write bff to csv\n",
    "bff.to_csv('bff uncleaned.csv', index=False)"
   ]
  },
  {
   "cell_type": "markdown",
   "id": "3f95f9ec",
   "metadata": {},
   "source": [
    "### Analysis of Bumble BFF DataFrame"
   ]
  },
  {
   "cell_type": "code",
   "execution_count": 339,
   "id": "195b18c7",
   "metadata": {},
   "outputs": [],
   "source": [
    "bff = df.loc[:, df.columns.str.startswith(('A', 'B'))]\n",
    "bff = df[df['A10'] == 'BFF'].drop(columns=[col for col in df.columns if col.startswith('D')]).reset_index(drop=True)"
   ]
  },
  {
   "cell_type": "code",
   "execution_count": 340,
   "id": "455ca5d8",
   "metadata": {},
   "outputs": [],
   "source": [
    "bff['B14'] = bff['B14'].str.extract(r'(\\d+)').astype(float).replace(np.nan, 0)"
   ]
  },
  {
   "cell_type": "code",
   "execution_count": 341,
   "id": "ecd8466a",
   "metadata": {},
   "outputs": [
    {
     "data": {
      "text/plain": [
       "0      1.0\n",
       "1      2.0\n",
       "2      3.0\n",
       "3      3.0\n",
       "4      4.0\n",
       "5      3.0\n",
       "6      5.0\n",
       "7      5.0\n",
       "8     10.0\n",
       "9      3.0\n",
       "10    10.0\n",
       "11     3.0\n",
       "12     5.0\n",
       "13     1.0\n",
       "14     5.0\n",
       "15     0.0\n",
       "16     0.0\n",
       "17     5.0\n",
       "Name: B14, dtype: float64"
      ]
     },
     "execution_count": 341,
     "metadata": {},
     "output_type": "execute_result"
    }
   ],
   "source": [
    "bff['B14']"
   ]
  },
  {
   "cell_type": "code",
   "execution_count": 342,
   "id": "9a0cfe29",
   "metadata": {},
   "outputs": [
    {
     "data": {
      "text/plain": [
       "0     Selective swiping - I swipe right only on prof...\n",
       "1     Casual Swiping - I swipe for fun, out of bored...\n",
       "2     Vibe check - I read bios, interests, photos an...\n",
       "3     Selective swiping - I swipe right only on prof...\n",
       "4     Selective swiping - I swipe right only on prof...\n",
       "5     Vibe check - I read bios, interests, photos an...\n",
       "6     Vibe check - I read bios, interests, photos an...\n",
       "7     Selective swiping - I swipe right only on prof...\n",
       "8     Vibe check - I read bios, interests, photos an...\n",
       "9     Vibe check - I read bios, interests, photos an...\n",
       "10    Vibe check - I read bios, interests, photos an...\n",
       "11    Vibe check - I read bios, interests, photos an...\n",
       "12    Vibe check - I read bios, interests, photos an...\n",
       "13    Casual Swiping - I swipe for fun, out of bored...\n",
       "14    Selective swiping - I swipe right only on prof...\n",
       "15    Vibe check - I read bios, interests, photos an...\n",
       "16    Casual Swiping - I swipe for fun, out of bored...\n",
       "17    Casual Swiping - I swipe for fun, out of bored...\n",
       "Name: B5, dtype: object"
      ]
     },
     "execution_count": 342,
     "metadata": {},
     "output_type": "execute_result"
    }
   ],
   "source": [
    "bff['B5']"
   ]
  },
  {
   "cell_type": "code",
   "execution_count": 343,
   "id": "d03b59b4",
   "metadata": {},
   "outputs": [
    {
     "data": {
      "text/plain": [
       "0     2\n",
       "1     6\n",
       "2     3\n",
       "3     2\n",
       "4     2\n",
       "5     3\n",
       "6     3\n",
       "7     2\n",
       "8     3\n",
       "9     3\n",
       "10    3\n",
       "11    3\n",
       "12    3\n",
       "13    6\n",
       "14    2\n",
       "15    3\n",
       "16    6\n",
       "17    6\n",
       "Name: B5, dtype: int64"
      ]
     },
     "execution_count": 343,
     "metadata": {},
     "output_type": "execute_result"
    }
   ],
   "source": [
    "\n",
    "b5_map = {\n",
    "    'Aggressive swiping - I swipe to maximize matches and filter later' : 1,\n",
    "    'Selective swiping - I swipe right only on profiles that genuinely catch my interest' : 2,\n",
    "    'Vibe check - I read bios, interests, photos and other important profile facts before deciding' : 3,\n",
    "    \"Mood-based swiping - I swipe depending on how I'm feeling at the very moment.\" : 4,\n",
    "    \"Strategic swiping - I swipe based on specific type or checklist in mind\" : 5,\n",
    "    \"Casual Swiping - I swipe for fun, out of boredom. Not always looking for an immediate match.\" : 6,\n",
    "    \"No Swiping - I rarely swipe or none at all for long periods. I just wait for others to swipe then that's where I decide.\" : 7\n",
    "}\n",
    "\n",
    "bff['B5'] = bff['B5'].map(b5_map)\n",
    "bff['B5']\n",
    "# bff[['A1', 'A2','A2.1', 'A5','A6','A7','A9']]"
   ]
  },
  {
   "cell_type": "code",
   "execution_count": 318,
   "id": "b7d41ab0",
   "metadata": {},
   "outputs": [],
   "source": [
    "# SELECT frequency of use, duration of use, satisfaction, \n",
    "bff[['A5', 'A6', 'A9']] = subset[['A5', 'A6', 'A9']].apply(pd.to_numeric, errors='coerce')"
   ]
  },
  {
   "cell_type": "code",
   "execution_count": 324,
   "id": "fda3979a",
   "metadata": {},
   "outputs": [
    {
     "data": {
      "text/html": [
       "<div>\n",
       "<style scoped>\n",
       "    .dataframe tbody tr th:only-of-type {\n",
       "        vertical-align: middle;\n",
       "    }\n",
       "\n",
       "    .dataframe tbody tr th {\n",
       "        vertical-align: top;\n",
       "    }\n",
       "\n",
       "    .dataframe thead th {\n",
       "        text-align: right;\n",
       "    }\n",
       "</style>\n",
       "<table border=\"1\" class=\"dataframe\">\n",
       "  <thead>\n",
       "    <tr style=\"text-align: right;\">\n",
       "      <th></th>\n",
       "      <th>A5</th>\n",
       "      <th>A6</th>\n",
       "      <th>A9</th>\n",
       "    </tr>\n",
       "  </thead>\n",
       "  <tbody>\n",
       "    <tr>\n",
       "      <th>0</th>\n",
       "      <td>2</td>\n",
       "      <td>1</td>\n",
       "      <td>3</td>\n",
       "    </tr>\n",
       "    <tr>\n",
       "      <th>1</th>\n",
       "      <td>4</td>\n",
       "      <td>0</td>\n",
       "      <td>4</td>\n",
       "    </tr>\n",
       "    <tr>\n",
       "      <th>2</th>\n",
       "      <td>5</td>\n",
       "      <td>2</td>\n",
       "      <td>3</td>\n",
       "    </tr>\n",
       "  </tbody>\n",
       "</table>\n",
       "</div>"
      ],
      "text/plain": [
       "0  A5  A6  A9\n",
       "0   2   1   3\n",
       "1   4   0   4\n",
       "2   5   2   3"
      ]
     },
     "execution_count": 324,
     "metadata": {},
     "output_type": "execute_result"
    }
   ],
   "source": [
    "bff[['A5', 'A6', 'A9']].head(3)"
   ]
  },
  {
   "cell_type": "code",
   "execution_count": null,
   "id": "e8773eec",
   "metadata": {},
   "outputs": [
    {
     "data": {
      "text/html": [
       "<div>\n",
       "<style scoped>\n",
       "    .dataframe tbody tr th:only-of-type {\n",
       "        vertical-align: middle;\n",
       "    }\n",
       "\n",
       "    .dataframe tbody tr th {\n",
       "        vertical-align: top;\n",
       "    }\n",
       "\n",
       "    .dataframe thead th {\n",
       "        text-align: right;\n",
       "    }\n",
       "</style>\n",
       "<table border=\"1\" class=\"dataframe\">\n",
       "  <thead>\n",
       "    <tr style=\"text-align: right;\">\n",
       "      <th></th>\n",
       "      <th>B4</th>\n",
       "      <th>B9</th>\n",
       "      <th>B13</th>\n",
       "      <th>B14</th>\n",
       "    </tr>\n",
       "  </thead>\n",
       "  <tbody>\n",
       "    <tr>\n",
       "      <th>0</th>\n",
       "      <td>5</td>\n",
       "      <td>Yes</td>\n",
       "      <td>Yes</td>\n",
       "      <td>1.0</td>\n",
       "    </tr>\n",
       "    <tr>\n",
       "      <th>1</th>\n",
       "      <td>15</td>\n",
       "      <td>No</td>\n",
       "      <td>No</td>\n",
       "      <td>2.0</td>\n",
       "    </tr>\n",
       "    <tr>\n",
       "      <th>2</th>\n",
       "      <td>3</td>\n",
       "      <td>Yes</td>\n",
       "      <td>Yes</td>\n",
       "      <td>3.0</td>\n",
       "    </tr>\n",
       "  </tbody>\n",
       "</table>\n",
       "</div>"
      ],
      "text/plain": [
       "0  B4   B9  B13  B14\n",
       "0   5  Yes  Yes  1.0\n",
       "1  15   No   No  2.0\n",
       "2   3  Yes  Yes  3.0"
      ]
     },
     "execution_count": 323,
     "metadata": {},
     "output_type": "execute_result"
    }
   ],
   "source": [
    "bff[['B4','B9','B13','B14']]\n"
   ]
  },
  {
   "cell_type": "code",
   "execution_count": 329,
   "id": "754c3417",
   "metadata": {},
   "outputs": [],
   "source": [
    "bff['B9']= bff['B9'].map({\n",
    "    'Yes': 1,\n",
    "    'No': 0\n",
    "})\n",
    "bff['B13']=bff['B13'].map({\n",
    "    'Yes': 1,\n",
    "    'No': 0\n",
    "})"
   ]
  },
  {
   "cell_type": "code",
   "execution_count": 331,
   "id": "6915bfdc",
   "metadata": {},
   "outputs": [
    {
     "name": "stdout",
     "output_type": "stream",
     "text": [
      "Kruskal-Wallis Test Result for B14 vs A5:\n",
      "Statistic: nan, p-value: nan\n",
      "\n",
      "Chi-Square Test Result for A5 vs B9:\n",
      "Chi-Square: 4.6152, p-value: 0.3291\n"
     ]
    }
   ],
   "source": [
    "from scipy.stats import spearmanr, kruskal, chi2_contingency\n",
    "# Group B14 by unique A5 levels for Kruskal-Wallis test dynamically\n",
    "grouped_B14_by_A5 = [group['B14'] for _, group in df.groupby('A5') if len(group) > 1]\n",
    "\n",
    "# Only run Kruskal-Wallis if we have at least two groups with more than one value\n",
    "if len(grouped_B14_by_A5) >= 2:\n",
    "    kruskal_result_dynamic = kruskal(*grouped_B14_by_A5)\n",
    "else:\n",
    "    kruskal_result_dynamic = None\n",
    "\n",
    "# Chi-Square contingency dynamically for A5 vs B9_bin\n",
    "contingency_dynamic = pd.crosstab(bff['A5'], bff['B9'])\n",
    "if contingency_dynamic.shape[0] > 1 and contingency_dynamic.shape[1] > 1:\n",
    "    chi2_result_dynamic = chi2_contingency(contingency_dynamic)\n",
    "else:\n",
    "    chi2_result_dynamic = None\n",
    "\n",
    "\n",
    "#pretty print\n",
    "print(\"Kruskal-Wallis Test Result for B14 vs A5:\")\n",
    "if kruskal_result_dynamic:\n",
    "    print(f\"Statistic: {kruskal_result_dynamic.statistic:.4f}, p-value: {kruskal_result_dynamic.pvalue:.4f}\")\n",
    "else:\n",
    "    print(\"Not enough data for Kruskal-Wallis\")\n",
    "print(\"\\nChi-Square Test Result for A5 vs B9:\")\n",
    "if chi2_result_dynamic:\n",
    "    print(f\"Chi-Square: {chi2_result_dynamic[0]:.4f}, p-value: {chi2_result_dynamic[1]:.4f}\")\n",
    "else:\n",
    "    print(\"Not enough data for Chi-Square\")"
   ]
  },
  {
   "cell_type": "code",
   "execution_count": 349,
   "id": "4fe5f85d",
   "metadata": {},
   "outputs": [],
   "source": [
    "# clean b4\n",
    "bff['B4'] = bff['B4'].replace(\n",
    "    to_replace=r'(?i).*no clear.*', value='0', regex=True\n",
    ").str.extract(r'(\\d+)').fillna(0).astype(int)\n",
    "\n"
   ]
  },
  {
   "cell_type": "code",
   "execution_count": 354,
   "id": "ad3e836b",
   "metadata": {},
   "outputs": [
    {
     "data": {
      "text/html": [
       "<div>\n",
       "<style scoped>\n",
       "    .dataframe tbody tr th:only-of-type {\n",
       "        vertical-align: middle;\n",
       "    }\n",
       "\n",
       "    .dataframe tbody tr th {\n",
       "        vertical-align: top;\n",
       "    }\n",
       "\n",
       "    .dataframe thead th {\n",
       "        text-align: right;\n",
       "    }\n",
       "</style>\n",
       "<table border=\"1\" class=\"dataframe\">\n",
       "  <thead>\n",
       "    <tr style=\"text-align: right;\">\n",
       "      <th></th>\n",
       "      <th>B4</th>\n",
       "      <th>A9</th>\n",
       "    </tr>\n",
       "  </thead>\n",
       "  <tbody>\n",
       "    <tr>\n",
       "      <th>0</th>\n",
       "      <td>5</td>\n",
       "      <td>2</td>\n",
       "    </tr>\n",
       "    <tr>\n",
       "      <th>1</th>\n",
       "      <td>15</td>\n",
       "      <td>3</td>\n",
       "    </tr>\n",
       "    <tr>\n",
       "      <th>2</th>\n",
       "      <td>3</td>\n",
       "      <td>3</td>\n",
       "    </tr>\n",
       "    <tr>\n",
       "      <th>3</th>\n",
       "      <td>3</td>\n",
       "      <td>2</td>\n",
       "    </tr>\n",
       "    <tr>\n",
       "      <th>4</th>\n",
       "      <td>8</td>\n",
       "      <td>4</td>\n",
       "    </tr>\n",
       "    <tr>\n",
       "      <th>5</th>\n",
       "      <td>1</td>\n",
       "      <td>3</td>\n",
       "    </tr>\n",
       "    <tr>\n",
       "      <th>6</th>\n",
       "      <td>4</td>\n",
       "      <td>2</td>\n",
       "    </tr>\n",
       "    <tr>\n",
       "      <th>7</th>\n",
       "      <td>3</td>\n",
       "      <td>4</td>\n",
       "    </tr>\n",
       "    <tr>\n",
       "      <th>8</th>\n",
       "      <td>10</td>\n",
       "      <td>3</td>\n",
       "    </tr>\n",
       "    <tr>\n",
       "      <th>9</th>\n",
       "      <td>2</td>\n",
       "      <td>3</td>\n",
       "    </tr>\n",
       "    <tr>\n",
       "      <th>10</th>\n",
       "      <td>0</td>\n",
       "      <td>3</td>\n",
       "    </tr>\n",
       "    <tr>\n",
       "      <th>11</th>\n",
       "      <td>4</td>\n",
       "      <td>3</td>\n",
       "    </tr>\n",
       "    <tr>\n",
       "      <th>12</th>\n",
       "      <td>15</td>\n",
       "      <td>3</td>\n",
       "    </tr>\n",
       "    <tr>\n",
       "      <th>13</th>\n",
       "      <td>3</td>\n",
       "      <td>3</td>\n",
       "    </tr>\n",
       "    <tr>\n",
       "      <th>14</th>\n",
       "      <td>1</td>\n",
       "      <td>3</td>\n",
       "    </tr>\n",
       "    <tr>\n",
       "      <th>15</th>\n",
       "      <td>5</td>\n",
       "      <td>2</td>\n",
       "    </tr>\n",
       "    <tr>\n",
       "      <th>16</th>\n",
       "      <td>3</td>\n",
       "      <td>2</td>\n",
       "    </tr>\n",
       "    <tr>\n",
       "      <th>17</th>\n",
       "      <td>3</td>\n",
       "      <td>3</td>\n",
       "    </tr>\n",
       "  </tbody>\n",
       "</table>\n",
       "</div>"
      ],
      "text/plain": [
       "0   B4  A9\n",
       "0    5   2\n",
       "1   15   3\n",
       "2    3   3\n",
       "3    3   2\n",
       "4    8   4\n",
       "5    1   3\n",
       "6    4   2\n",
       "7    3   4\n",
       "8   10   3\n",
       "9    2   3\n",
       "10   0   3\n",
       "11   4   3\n",
       "12  15   3\n",
       "13   3   3\n",
       "14   1   3\n",
       "15   5   2\n",
       "16   3   2\n",
       "17   3   3"
      ]
     },
     "execution_count": 354,
     "metadata": {},
     "output_type": "execute_result"
    }
   ],
   "source": [
    "bff[['B4','A9']]"
   ]
  },
  {
   "cell_type": "code",
   "execution_count": 355,
   "id": "8b8034a3",
   "metadata": {},
   "outputs": [
    {
     "data": {
      "text/html": [
       "<div>\n",
       "<style scoped>\n",
       "    .dataframe tbody tr th:only-of-type {\n",
       "        vertical-align: middle;\n",
       "    }\n",
       "\n",
       "    .dataframe tbody tr th {\n",
       "        vertical-align: top;\n",
       "    }\n",
       "\n",
       "    .dataframe thead th {\n",
       "        text-align: right;\n",
       "    }\n",
       "</style>\n",
       "<table border=\"1\" class=\"dataframe\">\n",
       "  <thead>\n",
       "    <tr style=\"text-align: right;\">\n",
       "      <th></th>\n",
       "      <th>A2.1</th>\n",
       "      <th>A2</th>\n",
       "      <th>B8</th>\n",
       "    </tr>\n",
       "  </thead>\n",
       "  <tbody>\n",
       "    <tr>\n",
       "      <th>0</th>\n",
       "      <td>Male</td>\n",
       "      <td>Gay</td>\n",
       "      <td>Men</td>\n",
       "    </tr>\n",
       "    <tr>\n",
       "      <th>1</th>\n",
       "      <td>Female</td>\n",
       "      <td>Heterosexual (straight)</td>\n",
       "      <td>Men</td>\n",
       "    </tr>\n",
       "    <tr>\n",
       "      <th>2</th>\n",
       "      <td>Male</td>\n",
       "      <td>Bisexual</td>\n",
       "      <td>Men</td>\n",
       "    </tr>\n",
       "    <tr>\n",
       "      <th>3</th>\n",
       "      <td>Male</td>\n",
       "      <td>Bisexual</td>\n",
       "      <td>Men</td>\n",
       "    </tr>\n",
       "    <tr>\n",
       "      <th>4</th>\n",
       "      <td>Male</td>\n",
       "      <td>Heterosexual (straight)</td>\n",
       "      <td>Women</td>\n",
       "    </tr>\n",
       "    <tr>\n",
       "      <th>5</th>\n",
       "      <td>Female</td>\n",
       "      <td>Heterosexual (straight)</td>\n",
       "      <td>Women</td>\n",
       "    </tr>\n",
       "    <tr>\n",
       "      <th>6</th>\n",
       "      <td>Male</td>\n",
       "      <td>Heterosexual (straight)</td>\n",
       "      <td>Women</td>\n",
       "    </tr>\n",
       "    <tr>\n",
       "      <th>7</th>\n",
       "      <td>Male</td>\n",
       "      <td>Gay</td>\n",
       "      <td>Men</td>\n",
       "    </tr>\n",
       "    <tr>\n",
       "      <th>8</th>\n",
       "      <td>Male</td>\n",
       "      <td>Queer</td>\n",
       "      <td>Men</td>\n",
       "    </tr>\n",
       "    <tr>\n",
       "      <th>9</th>\n",
       "      <td>Non-binary</td>\n",
       "      <td>pansexual</td>\n",
       "      <td>Non-binary people</td>\n",
       "    </tr>\n",
       "    <tr>\n",
       "      <th>10</th>\n",
       "      <td>Non-binary</td>\n",
       "      <td>Queer</td>\n",
       "      <td>Women</td>\n",
       "    </tr>\n",
       "    <tr>\n",
       "      <th>11</th>\n",
       "      <td>Male</td>\n",
       "      <td>Gay</td>\n",
       "      <td>Men</td>\n",
       "    </tr>\n",
       "    <tr>\n",
       "      <th>12</th>\n",
       "      <td>Male</td>\n",
       "      <td>Heterosexual (straight)</td>\n",
       "      <td>Women</td>\n",
       "    </tr>\n",
       "    <tr>\n",
       "      <th>13</th>\n",
       "      <td>Male</td>\n",
       "      <td>Gay</td>\n",
       "      <td>Men</td>\n",
       "    </tr>\n",
       "    <tr>\n",
       "      <th>14</th>\n",
       "      <td>Male</td>\n",
       "      <td>Heterosexual (straight)</td>\n",
       "      <td>Men</td>\n",
       "    </tr>\n",
       "    <tr>\n",
       "      <th>15</th>\n",
       "      <td>Female</td>\n",
       "      <td>Lesbian</td>\n",
       "      <td>Women</td>\n",
       "    </tr>\n",
       "    <tr>\n",
       "      <th>16</th>\n",
       "      <td>Female</td>\n",
       "      <td>Pansexual</td>\n",
       "      <td>Women</td>\n",
       "    </tr>\n",
       "    <tr>\n",
       "      <th>17</th>\n",
       "      <td>Male</td>\n",
       "      <td>Gay</td>\n",
       "      <td>Men</td>\n",
       "    </tr>\n",
       "  </tbody>\n",
       "</table>\n",
       "</div>"
      ],
      "text/plain": [
       "0         A2.1                       A2                 B8\n",
       "0         Male                      Gay                Men\n",
       "1       Female  Heterosexual (straight)                Men\n",
       "2         Male                 Bisexual                Men\n",
       "3         Male                 Bisexual                Men\n",
       "4         Male  Heterosexual (straight)              Women\n",
       "5       Female  Heterosexual (straight)              Women\n",
       "6         Male  Heterosexual (straight)              Women\n",
       "7         Male                      Gay                Men\n",
       "8         Male                    Queer                Men\n",
       "9   Non-binary                pansexual  Non-binary people\n",
       "10  Non-binary                    Queer              Women\n",
       "11        Male                      Gay                Men\n",
       "12        Male  Heterosexual (straight)              Women\n",
       "13        Male                      Gay                Men\n",
       "14        Male  Heterosexual (straight)                Men\n",
       "15      Female                  Lesbian              Women\n",
       "16      Female                Pansexual              Women\n",
       "17        Male                      Gay                Men"
      ]
     },
     "execution_count": 355,
     "metadata": {},
     "output_type": "execute_result"
    }
   ],
   "source": [
    "bff[['A2.1','A2','B8']]"
   ]
  },
  {
   "cell_type": "code",
   "execution_count": 368,
   "id": "9f8a05f5",
   "metadata": {},
   "outputs": [
    {
     "name": "stdout",
     "output_type": "stream",
     "text": [
      "Gender identity × Friend's gender\n",
      "B8          Men  Non-binary people  Women\n",
      "A2.1                                     \n",
      "Female        1                  0      3\n",
      "Male          9                  0      3\n",
      "Non-binary    0                  1      1 \n",
      "\n",
      "χ²(4) = 12.60,  p = 0.013,  Cramérʼs V = 0.59\n",
      "Chi square tabular value at alpha = 0.05: 9.49\n"
     ]
    }
   ],
   "source": [
    "import scipy.stats as ss\n",
    "ct_gi = pd.crosstab(bff['A2.1'], bff['B8'])\n",
    "chi2_gi, p_gi, dof_gi, exp_gi = ss.chi2_contingency(ct_gi)\n",
    "\n",
    "n = ct_gi.values.sum()\n",
    "cramers_v_gi = np.sqrt(chi2_gi / (n * (min(ct_gi.shape) - 1)))\n",
    "\n",
    "print('Gender identity × Friend\\'s gender')\n",
    "print(ct_gi, '\\n')\n",
    "print(f'χ²({dof_gi}) = {chi2_gi:.2f},  p = {p_gi:.3f},  Cramérʼs V = {cramers_v_gi:.2f}')\n",
    "#get chi square tabular\n",
    "from scipy.stats import chi2\n",
    "alpha = 0.05\n",
    "critical_value_gi = chi2.ppf(1 - alpha, dof_gi)\n",
    "print(f'Chi square tabular value at alpha = {alpha}: {critical_value_gi:.2f}')"
   ]
  },
  {
   "cell_type": "code",
   "execution_count": 367,
   "id": "a4cea831",
   "metadata": {},
   "outputs": [
    {
     "name": "stdout",
     "output_type": "stream",
     "text": [
      "\n",
      "Sexual orientation × Friend's gender\n",
      "B8                       Men  Non-binary people  Women\n",
      "A2                                                    \n",
      "Bisexual                   2                  0      0\n",
      "Gay                        5                  0      0\n",
      "Heterosexual (straight)    2                  0      4\n",
      "Lesbian                    0                  0      1\n",
      "Pansexual                  0                  0      1\n",
      "Queer                      1                  0      1\n",
      "pansexual                  0                  1      0 \n",
      "\n",
      "χ²(12) = 27.99,  p = 0.006,  Cramérʼs V = 0.88\n",
      "Chi square tabular value at alpha = 0.05: 21.03\n"
     ]
    }
   ],
   "source": [
    "ct_so = pd.crosstab(bff['A2'], bff['B8'])\n",
    "chi2_so, p_so, dof_so, exp_so = ss.chi2_contingency(ct_so)\n",
    "\n",
    "n2 = ct_so.values.sum()\n",
    "cramers_v_so = np.sqrt(chi2_so / (n2 * (min(ct_so.shape) - 1)))\n",
    "\n",
    "print('\\nSexual orientation × Friend\\'s gender')\n",
    "print(ct_so, '\\n')\n",
    "print(f'χ²({dof_so}) = {chi2_so:.2f},  p = {p_so:.3f},  Cramérʼs V = {cramers_v_so:.2f}')\n",
    "from scipy.stats import chi2\n",
    "alpha = 0.05\n",
    "critical_value_so = chi2.ppf(1 - alpha, dof_so)\n",
    "print(f'Chi square tabular value at alpha = {alpha}: {critical_value_so:.2f}')  \n",
    "\n"
   ]
  },
  {
   "cell_type": "code",
   "execution_count": 369,
   "id": "a780c7eb",
   "metadata": {},
   "outputs": [
    {
     "name": "stdout",
     "output_type": "stream",
     "text": [
      "B4 (weekly matches, integer)  ↔  A9 (satisfaction 1-4)\n",
      "Spearman ρ = -0.06, p-value = 0.809\n"
     ]
    }
   ],
   "source": [
    "rho, p_rho = ss.spearmanr(bff['B4'], bff['A9'], nan_policy='omit')\n",
    "print(\"B4 (weekly matches, integer)  ↔  A9 (satisfaction 1-4)\")\n",
    "print(f'Spearman ρ = {rho:.2f}, p-value = {p_rho:.3f}')"
   ]
  },
  {
   "cell_type": "code",
   "execution_count": 381,
   "id": "52496e0e",
   "metadata": {},
   "outputs": [
    {
     "data": {
      "text/plain": [
       "0      1.0\n",
       "1      2.0\n",
       "2      3.0\n",
       "3      3.0\n",
       "4      4.0\n",
       "5      3.0\n",
       "6      5.0\n",
       "7      5.0\n",
       "8     10.0\n",
       "9      3.0\n",
       "10    10.0\n",
       "11     3.0\n",
       "12     5.0\n",
       "13     1.0\n",
       "14     5.0\n",
       "15     0.0\n",
       "16     0.0\n",
       "17     5.0\n",
       "Name: B14, dtype: float64"
      ]
     },
     "execution_count": 381,
     "metadata": {},
     "output_type": "execute_result"
    }
   ],
   "source": [
    "bff['B14']"
   ]
  },
  {
   "cell_type": "code",
   "execution_count": null,
   "id": "a3c2bbb4",
   "metadata": {},
   "outputs": [],
   "source": [
    "\n",
    "bff[['B5','B14']]\n",
    "# convert the B14 count of friends to categories\n",
    "# 12 bin edges -> 11 labels\n",
    "bff['B14']= pd.cut(\n",
    "    bff['B14'],\n",
    "    bins=[-1, 0, 1, 2, 3, 4, 5, 6, 7, 8, 9, 10, np.inf],\n",
    "    labels=['0', '1', '2', '3', '4', '5', '6', '7', '8', '9', '10', '10+'],\n",
    "    right=True\n",
    ")\n"
   ]
  },
  {
   "cell_type": "code",
   "execution_count": null,
   "id": "ba1bc291",
   "metadata": {},
   "outputs": [],
   "source": [
    "#perform kruskal wallis h test for B14 and B5\n",
    "bff['B5'] = bff['B5']\n",
    "bff['B14'] = bff['B14']\n",
    "kruskal_result_B14_B5 = kruskal(bff['B14'], bff['B5'])\n",
    "print(\"\\nKruskal-Wallis Test Result for B14 vs B5:\")\n",
    "print(f\"Statistic: {kruskal_result_B14_B5.statistic:.4f}, p-value: {kruskal_result_B14_B5.pvalue:.4f}\")"
   ]
  }
 ],
 "metadata": {
  "kernelspec": {
   "display_name": "venv",
   "language": "python",
   "name": "python3"
  },
  "language_info": {
   "codemirror_mode": {
    "name": "ipython",
    "version": 3
   },
   "file_extension": ".py",
   "mimetype": "text/x-python",
   "name": "python",
   "nbconvert_exporter": "python",
   "pygments_lexer": "ipython3",
   "version": "3.12.1"
  }
 },
 "nbformat": 4,
 "nbformat_minor": 5
}
